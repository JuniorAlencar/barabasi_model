{
 "cells": [
  {
   "cell_type": "code",
   "execution_count": null,
   "id": "1b40e69d",
   "metadata": {},
   "outputs": [],
   "source": [
    "from __future__ import division, absolute_import, print_function\n",
    "import sys\n",
    "import os\n",
    "from pylab import *  # for plotting\n",
    "from graph_tool.all import *\n",
    "import random as rd\n",
    "import itertools #Biblioteca para geração da lista de elementos repetidos\n",
    "import numpy as np \n",
    "from collections import * #módulo counter para contar o número de elmentos\n",
    "import csv #Save file in csv"
   ]
  },
  {
   "cell_type": "markdown",
   "id": "e9951f32",
   "metadata": {},
   "source": [
    "## Número de sítios da rede\n",
    "\n",
    "Logo de começo devemos restringir o valor de $m$ com relação a $m_0$, fazendo\n",
    "\n",
    "<center> $ m \\le m_0 $, (1) </center>\n",
    "\n",
    "essa restrição evita ligações em loop do novo sítio. Nós temos que o número de sítos final da rede será dada por\n",
    "\n",
    "<center> $N = m_0 + t$, (2) </center>\n",
    "\n",
    "para cada instante de tempo $t$, haverá $m_0+t$ sítios. Com número de ligações dadas por\n",
    "\n",
    "<center> $l = m_0+mt$, (3)</center>\n",
    "\n",
    "pois cada um dos $t$ sítios terão $m$ ligações. Para sabermos quanto devemos utilizar no tempo para um número $N$ de sítios (quantas interações devemos fazer), podemos isolar o $t$ em (2),obtendo\n",
    "\n",
    "<font size=\"3\"><center> $N-m_0 = t$.  </center></font>\n",
    "\n",
    "A probabilidade de ligação de um novo sítio $i$ é dada por\n",
    "\n",
    "<font size=\"3\"><center> $p_i = \\frac{k_i}{\\sum_i k_i}$ </center></font>,\n",
    "\n",
    "com a distribuição dos graus dados por\n",
    "\n",
    "<font size=\"3\"><center> p(k) = $\\frac{2m_0(m_0+1)}{k(k+1)(k+2)}$ </center></font>\n",
    "\n"
   ]
  },
  {
   "cell_type": "markdown",
   "id": "d956f730",
   "metadata": {},
   "source": [
    "## 2. Algoritmo para rede inicial\n",
    "\n",
    "Tomando a rede inicial com $m_0$ sítios totalmente conectada (sítios igualmente provaveis inicialmente), teremos a matriz de adjacência dada por\n",
    "\n",
    "\\begin{equation}\n",
    "A = \n",
    "\\begin{pmatrix}\n",
    "0 & 1 & 1 & \\cdots & 1\\\\\n",
    "1 & 0 & 1 & \\cdots & 1\\\\\n",
    "1 & 1 & 0 & \\cdots & 1\\\\\n",
    "1 & 1 & 1 & \\ddots & 1\\\\\n",
    "1 & 1 & 1 & \\cdots & 0\\\\\n",
    "\\end{pmatrix}\n",
    "_{(m_0,m_0)},\n",
    "\\end{equation}\n",
    "\n",
    "A rede totalmente conectada, possuí todos elementos fora da coluna principal igual a 1. Para isso, podemos expressar um algoritmo primeiro fixando não-ligação para $i=j$ (sem loops), e logo em seguinda tomando a condição de que $j\\le i$, para pegar apenas os elementos do triângulo superior da matriz.\n",
    "\n",
    "### 2.1 Desenvolvimento da rede\n",
    "\n",
    "O método para gerar a rede de uma forma eficiente é através da construção de um array $K$. Esse array $K$ guardará as informações acerca do número de ligações que cada sítio $i$ fará, da seguinte forma:\n",
    "\n",
    "* Cada sítio $i$, representado por um valor número, aparecerá em $K$ num número de vezes igual o seu número de ligações $k$, ou seja, caso os sítios 0, 1 e 2, possuam 1, 2 e 2 ligações, respectivamente, nós teremos o K para essa rede dada por\n",
    "\n",
    "<center> $K = [0,1,1,2,2]  $</center>,\n",
    "\n",
    "vemos que o comprimento de K (5 elementos), representa o grau total da rede ($\\sum_j k_j$), com o número de vezes que o elemento aparece representando o $k_i$. Ao selecionar aleatoriamente um elemento de $K$, nós temos que os valores que mais aparecem (sítios com mais ligações), tem mais probabilidades de serem selecionados. Satisfazendo a condição $p_i$ imposta sobre essa rede em especifico\n",
    "\n"
   ]
  },
  {
   "cell_type": "markdown",
   "id": "6df14d4d",
   "metadata": {},
   "source": []
  },
  {
   "cell_type": "code",
   "execution_count": null,
   "id": "ed9a7f35",
   "metadata": {},
   "outputs": [],
   "source": [
    "#m0: número de sítios' iniciais;\n",
    "def barabasi_network(m0,m,N,s):\n",
    "    seed(s)\n",
    "    g = Graph(directed=False) #Grafo sem direção\n",
    "    \n",
    "    #S = g.new_vertex_property(\"double\")\n",
    "    #L = g.new_edge_property(\"double\")\n",
    "    \n",
    "    g.add_vertex(m0) #Add m0 elements de sítios em g;\n",
    "\n",
    "    K = [] #Lista que guardará os os valores dos sítios i, k vezes;\n",
    "    K_supli = [] #Lista Suplementar, que juntará os novos elementos ao K;\n",
    "    K_filter = [] #Lista que será filtrada para ser usada dentro do loop;\n",
    "    \n",
    "    #Criando a rede inicial----------------------------------------------------------\n",
    "    ver = np.zeros(N) #Guardará os sítios num array;\n",
    "    \n",
    "    #Rede inicial totalmente conectada;\n",
    "    for i in range(m0):\n",
    "        ver[i] = int(g.vertex(i)) # Definindo todos valores dos sítios i como inteiros\n",
    "        for j in range(i+1,m0):\n",
    "            g.add_edge(g.vertex(i),g.vertex(j)) #Construindo uma rede totalmente ligada (inicial)\n",
    "    \n",
    "    #Construção da lista K inicial--------------------------------------------------\n",
    "    for i in range(m0):\n",
    "        #Gera uma  lista de elementos repetidos\n",
    "        K_supli = list(itertools.repeat(int(g.vertex(i)), int(g.vertex(i).out_degree()))) \n",
    "        \n",
    "        K += K_supli #Add essa lista de elementos repetidos em K\n",
    "        K_filter += K_supli #Add essa lista de elementos repetidos em K\n",
    "        \n",
    "    #---------------------------------Crescimento da rede-------------------------------\n",
    "    for i in range(m0,N):\n",
    "        v = g.add_vertex() #Adiciona um novo sítio\n",
    "        \n",
    "        # O for abaixo é responsável por sortear um sítio dentre todos existentes da rede (antes da adição\n",
    "        # do novo sítio), e realizar uma ligação desse sítio sorteado com o sítio adicionado. Após isso, é\n",
    "        #feito uma filtragem, deixando apenas os sítios restantes (evitar sítios com duas ligações), essa filtragem\n",
    "        #é feita m vezes.\n",
    "        \n",
    "        for j in range(m):\n",
    "            Num = randint(0,len(K_filter)-1) #Gera um número aleatório(sítio) dentro de K_filter ;\n",
    "            u = g.vertex(K_filter[Num]) #seleciona o sítio que foi gerado acima (transforma int em vertex);\n",
    "            L = g.add_edge(v,g.vertex(K_filter[Num])) #Realiza a ligação do sítio add como o sítio sorteado;\n",
    "            K += [int(u)] #Adiciona esse sítio sorteado aos valores de K;\n",
    "            #Filtra K, removendo o sítio já sorteado;\n",
    "            K_filter = list(filter(lambda val: val !=  int(u), K_filter)) \n",
    "        \n",
    "        #Constroi uma lista com as m ligações do sítio novo (v)\n",
    "        K_supli = list(itertools.repeat(int(v), int(v.out_degree())))\n",
    "        K += K_supli #Add a lista acima em K\n",
    "        #Atualiza K_filter, add os novos sítios (v) e retomando K_filter a forma original (antes da filtragem)\n",
    "        K_filter = K  \n",
    "    \n",
    "    return K"
   ]
  },
  {
   "cell_type": "code",
   "execution_count": null,
   "id": "3eb9f6a2",
   "metadata": {},
   "outputs": [],
   "source": [
    "K_t1 = barabasi_network(5,3,10000,1001) #gerando uma rede de 10.0000 elementos;"
   ]
  },
  {
   "cell_type": "code",
   "execution_count": null,
   "id": "022fde7f",
   "metadata": {},
   "outputs": [],
   "source": [
    "N = 10000 #Número de sítios\n",
    "L = list(Counter(K_t1).values()) #Número de graus para cada sítio;\n",
    "print(L)"
   ]
  },
  {
   "cell_type": "code",
   "execution_count": null,
   "id": "5f4d6690",
   "metadata": {},
   "outputs": [],
   "source": [
    "#Histograma de L\n",
    "plt.hist(L,bins=200)\n",
    "plt.xlim(xmin=0, xmax = 50)\n",
    "plt.show()"
   ]
  },
  {
   "cell_type": "code",
   "execution_count": null,
   "id": "517c9d5f",
   "metadata": {},
   "outputs": [],
   "source": [
    "#histograma Log-Log de L\n",
    "hist, bins, _ = plt.hist(L, bins=8)\n",
    "logbins = np.logspace(np.log10(bins[0]),np.log10(bins[-1]),len(bins))\n",
    "plt.subplot(212)\n",
    "plt.hist(L, bins=logbins)\n",
    "plt.xscale('log')\n",
    "plt.yscale('log')\n",
    "plt.show()"
   ]
  },
  {
   "cell_type": "code",
   "execution_count": null,
   "id": "327cb947",
   "metadata": {},
   "outputs": [],
   "source": [
    "#Gerando as 500 implementações (redes) para difentes tamanhos de redes o grau de cada sítio;\n",
    "\n",
    "m0 = 5 #Número de sítios iniciais\n",
    "m = 3 #Número de ligação para cada novo sítio\n",
    "\n",
    "Nimp = 500 #Número de implementações\n",
    "N1K = 1000 #Número de sítios da rede final: 1.000 Sítios\n",
    "N10K = 10000 #Número de sítios da rede final: 10.000 Sítios\n",
    "\n",
    "for i in range(Nimp):\n",
    "    degree1K = list(Counter(barabasi_network(m0,m,N1K,i)).values())\n",
    "    degree10K = list(Counter(barabasi_network(m0,m,N10K,i+Nimp)).values())\n",
    "    np.savetxt('/home/junior/codes/barabasi_model/data/N1K/data.csv', degree1K, fmt=\"%i\", delimiter=',')\n",
    "    np.savetxt('/home/junior/codes/barabasi_model/data/N10K/data.csv', (degree10K,), delimiter=',')\n"
   ]
  },
  {
   "cell_type": "code",
   "execution_count": null,
   "id": "00b1b882",
   "metadata": {},
   "outputs": [],
   "source": [
    "m0 = 5 #Número de sítios iniciais\n",
    "m = 3 #Número de ligação para cada novo sítio\n",
    "N1K = 1000 #Número de sítios da rede final: 1.000 Sítios\n",
    "Nimp =  2\n",
    "\n",
    "degree1K = np.array(Counter(barabasi_network(m0,m,N1K,100000)).values())\n",
    "np.savetxt('/home/junior/codes/barabasi_model/data/N1K/data.csv', degree1K,fmt='%i', delimiter=',')\n",
    "\n",
    "#for i in range(Nimp):\n",
    "#    degree1K,),fmt=\"%i\", delimiter=',')"
   ]
  },
  {
   "cell_type": "code",
   "execution_count": null,
   "id": "5f643806",
   "metadata": {},
   "outputs": [],
   "source": [
    "Nimp = 500 #Número de implementações\n",
    "N1kk = 100000 #100.000 Sítios\n",
    "N1kk = 500000 #500.000 Sítios"
   ]
  }
 ],
 "metadata": {
  "kernelspec": {
   "display_name": "Python 3 (ipykernel)",
   "language": "python",
   "name": "python3"
  },
  "language_info": {
   "codemirror_mode": {
    "name": "ipython",
    "version": 3
   },
   "file_extension": ".py",
   "mimetype": "text/x-python",
   "name": "python",
   "nbconvert_exporter": "python",
   "pygments_lexer": "ipython3",
   "version": "3.10.4"
  }
 },
 "nbformat": 4,
 "nbformat_minor": 5
}
