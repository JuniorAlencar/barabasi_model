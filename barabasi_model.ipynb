{
 "cells": [
  {
   "cell_type": "code",
   "execution_count": 3,
   "id": "1b40e69d",
   "metadata": {},
   "outputs": [],
   "source": [
    "from __future__ import division, absolute_import, print_function\n",
    "import sys\n",
    "import os\n",
    "from pylab import *  # for plotting\n",
    "from graph_tool.all import *\n",
    "import random as rd\n",
    "import itertools #Biblioteca para geração da lista de elementos repetidos\n",
    "import numpy as np"
   ]
  },
  {
   "cell_type": "markdown",
   "id": "e9951f32",
   "metadata": {},
   "source": [
    "## Número de sítios da rede\n",
    "\n",
    "Logo de começo devemos restringir o valor de $m$ com relação a $m_0$, fazendo\n",
    "\n",
    "<center> $ m \\le m_0 $, (1) </center>\n",
    "\n",
    "essa restrição evita ligações em loop do novo sítio. Nós temos que o número de sítos final da rede será dada por\n",
    "\n",
    "<center> $N = m_0 + t$, (2) </center>\n",
    "\n",
    "para cada instante de tempo $t$, haverá $m_0+t$ sítios. Com número de ligações dadas por\n",
    "\n",
    "<center> $l = m_0+mt$, (3)</center>\n",
    "\n",
    "pois cada um dos $t$ sítios terão $m$ ligações. Para sabermos quanto devemos utilizar no tempo para um número $N$ de sítios (quantas interações devemos fazer), podemos isolar o $t$ em (2),obtendo\n",
    "\n",
    "<font size=\"3\"><center> $N-m_0 = t$.  </center></font>\n",
    "\n",
    "A probabilidade de ligação de um novo sítio $i$ é dada por\n",
    "\n",
    "<font size=\"3\"><center> $p_i = \\frac{k_i}{\\sum_i k_i}$ </center></font>,\n",
    "\n",
    "com a distribuição dos graus dados por\n",
    "\n",
    "<font size=\"3\"><center> p(k) = $\\frac{2m_0(m_0+1)}{k(k+1)(k+2)}$ </center></font>\n",
    "\n"
   ]
  },
  {
   "cell_type": "markdown",
   "id": "d956f730",
   "metadata": {},
   "source": [
    "## 2. Algoritmo para rede inicial\n",
    "\n",
    "Tomando a rede inicial com $m_0$ sítios totalmente conectada (sítios igualmente provaveis inicialmente), teremos a matriz de adjacência dada por\n",
    "\n",
    "\\begin{equation}\n",
    "A = \n",
    "\\begin{pmatrix}\n",
    "0 & 1 & 1 & \\cdots & 1\\\\\n",
    "1 & 0 & 1 & \\cdots & 1\\\\\n",
    "1 & 1 & 0 & \\cdots & 1\\\\\n",
    "1 & 1 & 1 & \\ddots & 1\\\\\n",
    "1 & 1 & 1 & \\cdots & 0\\\\\n",
    "\\end{pmatrix}\n",
    "_{(m_0,m_0)},\n",
    "\\end{equation}\n",
    "\n",
    "A rede totalmente conectada, possuí todos elementos fora da coluna principal igual a 1. Para isso, podemos expressar um algoritmo primeiro fixando não-ligação para $i=j$ (sem loops), e logo em seguinda tomando a condição de que $j\\le i$, para pegar apenas os elementos do triângulo superior da matriz."
   ]
  },
  {
   "cell_type": "code",
   "execution_count": 23,
   "id": "593352db",
   "metadata": {},
   "outputs": [
    {
     "name": "stdout",
     "output_type": "stream",
     "text": [
      "[0, 0, 0, 1, 1, 1, 2, 2, 2, 3, 3, 3]\n",
      "[0 1 2 3]\n"
     ]
    }
   ],
   "source": [
    "g = Graph(directed=False)\n",
    "\n",
    "m0 = 4  #Número de sítios iniciais;\n",
    "m = 3  #Número de conexões dos novos sítios;\n",
    "N = 10 #Número de sítios final;\n",
    "t = N - m0 #Número de passos, lembrando que após t instantes de tempo, teremos N = m0 + t sítios;\n",
    "\n",
    "#Construindo a rede inicial------------------------------------------\n",
    "\n",
    "g.add_vertex(m0) #Add m0 elements de sítios em g;\n",
    "\n",
    "#Construindo uma rede inicial totalmente conectada\n",
    "for i in range(m0):\n",
    "    for j in range(i+1,m0):\n",
    "        g.add_edge(g.vertex(i),g.vertex(j))\n",
    "\n",
    "K = [] #Lista que guardará os \"k\" valores dos \"i\" sítios;\n",
    "K_supli = [] #Lista Suplementar, que juntará os novos elementos ao K;\n",
    "K_filter = [] #Lista que será filtrada para ser usada dentro do loop;\n",
    "\n",
    "#Construindo K e K_filter----------------------------------------------\n",
    "for i in range(m0):\n",
    "    K_supli = list(itertools.repeat(int(g.vertex(i)), int(g.vertex(i).out_degree())))\n",
    "    K += K_supli\n",
    "    K_filter += K_supli\n",
    "\n",
    "print(K)\n",
    "print(g.get_vertices())"
   ]
  },
  {
   "cell_type": "code",
   "execution_count": 24,
   "id": "0c828d2c",
   "metadata": {},
   "outputs": [
    {
     "name": "stdout",
     "output_type": "stream",
     "text": [
      "12\n",
      "9\n",
      "6\n",
      "19\n",
      "14\n",
      "10\n",
      "25\n",
      "19\n",
      "15\n",
      "31\n",
      "26\n",
      "20\n",
      "37\n",
      "31\n",
      "26\n",
      "43\n",
      "36\n",
      "30\n",
      "[0, 0, 0, 1, 1, 1, 2, 2, 2, 3, 3, 3, 0, 1, 3, 4, 4, 4, 3, 0, 2, 5, 5, 5, 3, 1, 0, 6, 6, 6, 2, 0, 3, 7, 7, 7, 1, 2, 3, 8, 8, 8, 2, 1, 3, 9, 9, 9]\n"
     ]
    }
   ],
   "source": [
    "m0 = 4  #Número de sítios iniciais;\n",
    "m = 3  #Número de conexões dos novos sítios;\n",
    "N = 10\n",
    "\n",
    "for i in range(m0,N):\n",
    "    v = g.add_vertex()\n",
    "    for j in range(m):\n",
    "        j = randint(0, len(K_filter)-1)\n",
    "        u = g.vertex(K_filter[j])\n",
    "        L = g.add_edge(v,u)\n",
    "        K += [int(u)]\n",
    "        print(len(K_filter))\n",
    "        K_filter = list(filter(lambda val: val !=  int(u), K_filter))\n",
    "        \n",
    "        \n",
    "    K_supli = list(itertools.repeat(int(g.vertex(i)), int(g.vertex(i).out_degree())))\n",
    "    K += K_supli\n",
    "    K_filter = K\n",
    "print(K_filter)"
   ]
  },
  {
   "cell_type": "code",
   "execution_count": null,
   "id": "740c804c",
   "metadata": {},
   "outputs": [],
   "source": [
    "q = Graph()\n",
    "m = 3\n",
    "K_t = [0,0,0,1,1,1,3,3,3,4,4,4]\n",
    "\n",
    "for i in range(1,3):\n",
    "    i = randint(0,len(K_t))\n",
    "    g.vertex()"
   ]
  },
  {
   "cell_type": "code",
   "execution_count": 66,
   "id": "a89a7fa8",
   "metadata": {},
   "outputs": [
    {
     "name": "stdout",
     "output_type": "stream",
     "text": [
      "3\n",
      "[0, 0, 0, 2, 2, 2, 3, 3, 3]\n",
      "4\n",
      "[0, 0, 0, 3, 3, 3]\n",
      "2\n",
      "[3, 3, 3]\n"
     ]
    }
   ],
   "source": [
    "for i in range(3):\n",
    "    j = randint(0, len(K_filter)-1)\n",
    "    u = g.vertex(K_filter[j])\n",
    "    L = g.add_edge(v,u)\n",
    "    K_filter = list(filter(lambda val: val !=  u, K_filter))\n",
    "    print(j)\n",
    "    print(K_filter)\n",
    "K_filter = K\n",
    "\n"
   ]
  },
  {
   "cell_type": "code",
   "execution_count": 9,
   "id": "89e9f99f",
   "metadata": {},
   "outputs": [],
   "source": [
    "a = 2"
   ]
  },
  {
   "cell_type": "code",
   "execution_count": 14,
   "id": "ed9a7f35",
   "metadata": {},
   "outputs": [],
   "source": [
    "#m0: número de sítios' iniciais;\n",
    "def barabasi_network(m0,m,N,s):\n",
    "    seed(s)\n",
    "    g = Graph(directed=False) #Grafo sem direção\n",
    "    \n",
    "    #S = g.new_vertex_property(\"double\")\n",
    "    #L = g.new_edge_property(\"double\")\n",
    "    \n",
    "    g.add_vertex(m0) #Add m0 elements de sítios em g;\n",
    "\n",
    "    K = [] #Lista que guardará os os valores dos sítios i, k vezes;\n",
    "    K_supli = [] #Lista Suplementar, que juntará os novos elementos ao K;\n",
    "    K_filter = [] #Lista que será filtrada para ser usada dentro do loop;\n",
    "    \n",
    "    #Criando a rede inicial----------------------------------------------------------\n",
    "    ver = np.zeros(N) #Guardará os sítios num array;\n",
    "    \n",
    "    #Rede inicial totalmente conectada;\n",
    "    for i in range(m0):\n",
    "        ver[i] = int(g.vertex(i)) # Definindo todos valores dos sítios i como inteiros\n",
    "        for j in range(i+1,m0):\n",
    "            g.add_edge(g.vertex(i),g.vertex(j)) #Construindo uma rede totalmente ligada (inicial)\n",
    "    \n",
    "    #Construção da lista K inicial--------------------------------------------------\n",
    "    for i in range(m0):\n",
    "        #Gera uma  lista de elementos repetidos\n",
    "        K_supli = list(itertools.repeat(int(g.vertex(i)), int(g.vertex(i).out_degree()))) \n",
    "        \n",
    "        K += K_supli #Add essa lista de elementos repetidos em K\n",
    "        K_filter += K_supli #Add essa lista de elementos repetidos em K\n",
    "        \n",
    "    #---------------------------------Crescimento da rede-------------------------------\n",
    "    for i in range(m0,N):\n",
    "        v = g.add_vertex() #Adiciona um novo sítio\n",
    "        \n",
    "        # O for abaixo é responsável por sortear um sítio dentre todos existentes da rede (antes da adição\n",
    "        # do novo sítio), e realizar uma ligação desse sítio sorteado com o sítio adicionado. Após isso, é\n",
    "        #feito uma filtragem, deixando apenas os sítios restantes (evitar sítios com duas ligações), essa filtragem\n",
    "        #é feita m vezes.\n",
    "        \n",
    "        for j in range(m):\n",
    "            Num = randint(0,len(K_filter)-1) #Gera um número aleatório(sítio) dentro de K_filter ;\n",
    "            u = g.vertex(K_filter[Num]) #seleciona o sítio que foi gerado acima (transforma int em vertex);\n",
    "            L = g.add_edge(v,g.vertex(K_filter[Num])) #Realiza a ligação do sítio add como o sítio sorteado;\n",
    "            K += [int(u)] #Adiciona esse sítio sorteado aos valores de K;\n",
    "            #Filtra K, removendo o sítio já sorteado;\n",
    "            K_filter = list(filter(lambda val: val !=  int(u), K_filter)) \n",
    "        \n",
    "        #Constroi uma lista com as m ligações do sítio novo (v)\n",
    "        K_supli = list(itertools.repeat(int(v), int(v.out_degree())))\n",
    "        K += K_supli #Add a lista acima em K\n",
    "        #Atualiza K_filter, add os novos sítios (v) e retomando K_filter a forma original (antes da filtragem)\n",
    "        K_filter = K  \n",
    "    \n",
    "    return K"
   ]
  },
  {
   "cell_type": "code",
   "execution_count": 19,
   "id": "3eb9f6a2",
   "metadata": {},
   "outputs": [
    {
     "ename": "KeyboardInterrupt",
     "evalue": "",
     "output_type": "error",
     "traceback": [
      "\u001b[0;31m---------------------------------------------------------------------------\u001b[0m",
      "\u001b[0;31mKeyboardInterrupt\u001b[0m                         Traceback (most recent call last)",
      "Input \u001b[0;32mIn [19]\u001b[0m, in \u001b[0;36m<cell line: 1>\u001b[0;34m()\u001b[0m\n\u001b[0;32m----> 1\u001b[0m K_t \u001b[38;5;241m=\u001b[39m \u001b[43mbarabasi_network\u001b[49m\u001b[43m(\u001b[49m\u001b[38;5;241;43m5\u001b[39;49m\u001b[43m,\u001b[49m\u001b[38;5;241;43m3\u001b[39;49m\u001b[43m,\u001b[49m\u001b[38;5;241;43m10000\u001b[39;49m\u001b[43m,\u001b[49m\u001b[38;5;241;43m1001\u001b[39;49m\u001b[43m)\u001b[49m\n",
      "Input \u001b[0;32mIn [14]\u001b[0m, in \u001b[0;36mbarabasi_network\u001b[0;34m(m0, m, N, s)\u001b[0m\n\u001b[1;32m     45\u001b[0m     K \u001b[38;5;241m+\u001b[39m\u001b[38;5;241m=\u001b[39m [\u001b[38;5;28mint\u001b[39m(u)] \u001b[38;5;66;03m#Adiciona esse sítio sorteado aos valores de K;\u001b[39;00m\n\u001b[1;32m     46\u001b[0m     \u001b[38;5;66;03m#Filtra K, removendo o sítio já sorteado;\u001b[39;00m\n\u001b[0;32m---> 47\u001b[0m     K_filter \u001b[38;5;241m=\u001b[39m \u001b[38;5;28;43mlist\u001b[39;49m\u001b[43m(\u001b[49m\u001b[38;5;28;43mfilter\u001b[39;49m\u001b[43m(\u001b[49m\u001b[38;5;28;43;01mlambda\u001b[39;49;00m\u001b[43m \u001b[49m\u001b[43mval\u001b[49m\u001b[43m:\u001b[49m\u001b[43m \u001b[49m\u001b[43mval\u001b[49m\u001b[43m \u001b[49m\u001b[38;5;241;43m!=\u001b[39;49m\u001b[43m  \u001b[49m\u001b[38;5;28;43mint\u001b[39;49m\u001b[43m(\u001b[49m\u001b[43mu\u001b[49m\u001b[43m)\u001b[49m\u001b[43m,\u001b[49m\u001b[43m \u001b[49m\u001b[43mK_filter\u001b[49m\u001b[43m)\u001b[49m\u001b[43m)\u001b[49m \n\u001b[1;32m     49\u001b[0m \u001b[38;5;66;03m#Constroi uma lista com as m ligações do sítio novo (v)\u001b[39;00m\n\u001b[1;32m     50\u001b[0m K_supli \u001b[38;5;241m=\u001b[39m \u001b[38;5;28mlist\u001b[39m(itertools\u001b[38;5;241m.\u001b[39mrepeat(\u001b[38;5;28mint\u001b[39m(v), \u001b[38;5;28mint\u001b[39m(v\u001b[38;5;241m.\u001b[39mout_degree())))\n",
      "Input \u001b[0;32mIn [14]\u001b[0m, in \u001b[0;36mbarabasi_network.<locals>.<lambda>\u001b[0;34m(val)\u001b[0m\n\u001b[1;32m     45\u001b[0m     K \u001b[38;5;241m+\u001b[39m\u001b[38;5;241m=\u001b[39m [\u001b[38;5;28mint\u001b[39m(u)] \u001b[38;5;66;03m#Adiciona esse sítio sorteado aos valores de K;\u001b[39;00m\n\u001b[1;32m     46\u001b[0m     \u001b[38;5;66;03m#Filtra K, removendo o sítio já sorteado;\u001b[39;00m\n\u001b[0;32m---> 47\u001b[0m     K_filter \u001b[38;5;241m=\u001b[39m \u001b[38;5;28mlist\u001b[39m(\u001b[38;5;28mfilter\u001b[39m(\u001b[38;5;28;01mlambda\u001b[39;00m val: val \u001b[38;5;241m!=\u001b[39m  \u001b[38;5;28;43mint\u001b[39;49m\u001b[43m(\u001b[49m\u001b[43mu\u001b[49m\u001b[43m)\u001b[49m, K_filter)) \n\u001b[1;32m     49\u001b[0m \u001b[38;5;66;03m#Constroi uma lista com as m ligações do sítio novo (v)\u001b[39;00m\n\u001b[1;32m     50\u001b[0m K_supli \u001b[38;5;241m=\u001b[39m \u001b[38;5;28mlist\u001b[39m(itertools\u001b[38;5;241m.\u001b[39mrepeat(\u001b[38;5;28mint\u001b[39m(v), \u001b[38;5;28mint\u001b[39m(v\u001b[38;5;241m.\u001b[39mout_degree())))\n",
      "\u001b[0;31mKeyboardInterrupt\u001b[0m: "
     ]
    }
   ],
   "source": [
    "K_t = barabasi_network(5,3,10000,1001)"
   ]
  },
  {
   "cell_type": "code",
   "execution_count": null,
   "id": "f0b46921",
   "metadata": {},
   "outputs": [],
   "source": [
    "print(K_t)"
   ]
  },
  {
   "cell_type": "code",
   "execution_count": null,
   "id": "7c3d41ed",
   "metadata": {},
   "outputs": [],
   "source": []
  }
 ],
 "metadata": {
  "kernelspec": {
   "display_name": "Python 3 (ipykernel)",
   "language": "python",
   "name": "python3"
  },
  "language_info": {
   "codemirror_mode": {
    "name": "ipython",
    "version": 3
   },
   "file_extension": ".py",
   "mimetype": "text/x-python",
   "name": "python",
   "nbconvert_exporter": "python",
   "pygments_lexer": "ipython3",
   "version": "3.10.4"
  }
 },
 "nbformat": 4,
 "nbformat_minor": 5
}
