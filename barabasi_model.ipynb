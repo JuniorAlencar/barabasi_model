{
 "cells": [
  {
   "cell_type": "code",
   "execution_count": 3,
   "id": "1b40e69d",
   "metadata": {},
   "outputs": [],
   "source": [
    "from __future__ import division, absolute_import, print_function\n",
    "import sys\n",
    "if sys.version_info < (3,):\n",
    "    range = xrange\n",
    "import os\n",
    "from pylab import *  # for plotting\n",
    "from numpy.random import *  # for random sampling\n",
    "from graph_tool.all import *"
   ]
  },
  {
   "cell_type": "code",
   "execution_count": 7,
   "id": "a905342c",
   "metadata": {},
   "outputs": [],
   "source": [
    "#---------------------------------------------Parametros iniciais--------------------------------------------------\n",
    "\n",
    "#m0: número de sítios iniciais da rede\n",
    "m0 = 4\n",
    "#m: número de ligações que os novos nós devem fazer\n",
    "m = 2 \n",
    "#t: por quanto tempo o processo será implementando (gerando novos sítios)\n",
    "t = 10000\n",
    "#N: número de sítios da rede\n",
    "N = m0 + t"
   ]
  },
  {
   "cell_type": "markdown",
   "id": "e9951f32",
   "metadata": {},
   "source": [
    "## Número de sítios da rede\n",
    "\n",
    "Logo de começo devemos restringir o valor de $m$ com relação a $m_0$, fazendo\n",
    "\n",
    "<center> $ m \\le m_0 $, (1) </center>\n",
    "\n",
    "essa restrição evita ligações em loop do novo sítio. Nós temos que o número de sítos final da rede será dada por\n",
    "\n",
    "<center> $N = m_0 + t$, (2) </center>\n",
    "\n",
    "para cada instante de tempo $t$, haverá $m_0+t$ sítios. Com número de ligações dadas por\n",
    "\n",
    "<center> $l = m_0+mt$, (3)</center>\n",
    "\n",
    "pois cada um dos $t$ sítios terão $m$ ligações. Para sabermos quanto devemos utilizar no tempo para um número $N$ de sítios (quantas interações devemos fazer), podemos isolar o $t$ em (2),obtendo\n",
    "\n",
    "<font size=\"3\"><center> $N-m_0 = t$.  </center></font>\n",
    "\n",
    "A probabilidade de ligação de um novo sítio $i$ é dada por\n",
    "\n",
    "<font size=\"3\"><center> $p_i = \\frac{k_i}{\\sum_i k_i}$ </center></font>,\n",
    "\n",
    "com a distribuição dos graus dados por\n",
    "\n",
    "<font size=\"3\"><center> p(k) = $\\frac{2m_0(m_0+1)}{k(k+1)(k+2)}$ </center></font>\n",
    "\n"
   ]
  },
  {
   "cell_type": "code",
   "execution_count": 22,
   "id": "c0ba1b5f",
   "metadata": {},
   "outputs": [],
   "source": [
    "g = Graph()\n",
    "\n",
    "#Irei guardar algumas informações de cada sítio e ligação ,para criar alguns mapas de propriedades, para isso\n",
    "Sitio = g.new_vertex_property(\"int\") #Propriedades dos sítios\n",
    "Ligacao = g.new_edge_property(\"int\") #Propriedades das sítios\n",
    "\n",
    "#Tamanho final da rede\n",
    "N = 100000\n",
    "\n",
    "#Tamanho inicial da rede\n",
    "m0 = 5\n",
    "\n",
    "#Criação da rede para os primeiros nós\n",
    "v = g.add_vertex()\n",
    "\n",
    "\n",
    "for i in range(0,m0):\n",
    "    v = g.add_vertex()\n",
    "    Sitio[v] = i\n",
    "    \n",
    "\n",
    "# we will keep a list of the vertices. The number of times a vertex is in this\n",
    "\n",
    "# list will give the probability of it being selected.\n",
    "\n",
    "vlist = [v]\n",
    "\n",
    "\n",
    "# let's now add the new edges and vertices\n",
    "\n",
    "for i in range(1, N):\n",
    "\n",
    "    # create our new vertex\n",
    "\n",
    "    v = g.add_vertex()\n",
    "\n",
    "    v_age[v] = i\n",
    "\n",
    "\n",
    "    # we need to sample a new vertex to be the target, based on its in-degree +\n",
    "\n",
    "    # 1. For that, we simply randomly sample it from vlist.\n",
    "\n",
    "    i = randint(0, len(vlist))\n",
    "\n",
    "    target = vlist[i]\n",
    "\n",
    "\n",
    "    # add edge\n",
    "\n",
    "    e = g.add_edge(v, target)\n",
    "\n",
    "    e_age[e] = i\n",
    "\n",
    "\n",
    "    # put v and target in the list\n",
    "\n",
    "    vlist.append(target)\n",
    "\n",
    "    vlist.append(v)\n",
    "g.vertex_properties[\"age\"] = v_age\n",
    "\n",
    "g.edge_properties[\"age\"] = e_age\n",
    "\n",
    "\n",
    "# now we can save it\n",
    "\n",
    "g.save(\"price.xml.gz\")\n"
   ]
  },
  {
   "cell_type": "code",
   "execution_count": 23,
   "id": "9a6358f1",
   "metadata": {},
   "outputs": [
    {
     "data": {
      "text/plain": [
       "<VertexPropertyMap object with value type 'vector<double>', for Graph 0x7f7b5b2ffc70, at 0x7f7b5a9c7c10>"
      ]
     },
     "execution_count": 23,
     "metadata": {},
     "output_type": "execute_result"
    }
   ],
   "source": [
    "g = load_graph(\"price.xml.gz\")\n",
    "age = g.vertex_properties[\"age\"]\n",
    "\n",
    "pos = sfdp_layout(g)\n",
    "graph_draw(g, pos, output_size=(1000, 1000), vertex_color=[1,1,1,0],\n",
    "           vertex_fill_color=age, vertex_size=1, edge_pen_width=1.2,\n",
    "           vcmap=matplotlib.cm.gist_heat_r, output=\"price.pdf\")"
   ]
  },
  {
   "cell_type": "markdown",
   "id": "d956f730",
   "metadata": {},
   "source": [
    "## 2. Algoritmo para rede inicial\n",
    "\n",
    "Tomando a rede inicial com $m_0$ sítios totalmente conectada (sítios igualmente provaveis inicialmente), teremos a matriz de adjacência dada por\n",
    "\n",
    "\\begin{equation}\n",
    "A = \n",
    "\\begin{pmatrix}\n",
    "0 & 1 & 1 & \\cdots & 1\\\\\n",
    "1 & 0 & 1 & \\cdots & 1\\\\\n",
    "1 & 1 & 0 & \\cdots & 1\\\\\n",
    "1 & 1 & 1 & \\ddots & 1\\\\\n",
    "1 & 1 & 1 & \\cdots & 0\\\\\n",
    "\\end{pmatrix}\n",
    "_{(m_0,m_0)},\n",
    "\\end{equation}\n",
    "\n",
    "A rede totalmente conectada, possuí todos elementos fora da coluna principal igual a 1. Para isso, podemos expressar um algoritmo primeiro fixando não-ligação para $i=j$ (sem loops), e logo em seguinda tomando a condição de que $j\\le i$, para pegar apenas os elementos do triângulo superior da matriz."
   ]
  },
  {
   "cell_type": "code",
   "execution_count": 84,
   "id": "593352db",
   "metadata": {},
   "outputs": [
    {
     "name": "stdout",
     "output_type": "stream",
     "text": [
      "[4 4 4 4 4]\n",
      "20\n"
     ]
    }
   ],
   "source": [
    "g = Graph(directed=False)\n",
    "\n",
    "#S = g.new_vertex_property(\"double\")\n",
    "#L = g.new_edge_property(\"double\")\n",
    "\n",
    "m0 = 5\n",
    "\n",
    "vlist = g.add_vertex(m0) #Add m0 elements de sítios em g.\n",
    "\n",
    "for i in range(m0):\n",
    "    for j in range(i+1,m0):\n",
    "        g.add_edge(g.vertex(i),g.vertex(j))\n",
    "                \n",
    "print(g.get_out_degrees(g.get_vertices())) #Voltando a rede toda ligada (grau 4 para todos os sítios)\n",
    "edges = g.get_edges()\n",
    "u = 0\n",
    "for i in range(m0):\n",
    "    u+= g.vertex(i).out_degree()\n",
    "print(u)"
   ]
  },
  {
   "cell_type": "code",
   "execution_count": 89,
   "id": "89e9f99f",
   "metadata": {},
   "outputs": [],
   "source": [
    "a = 2"
   ]
  },
  {
   "cell_type": "code",
   "execution_count": 90,
   "id": "ed9a7f35",
   "metadata": {},
   "outputs": [],
   "source": [
    "#m0: número de sítios' iniciais;\n",
    "\n",
    "\n",
    "def barabasi_network(m0):\n",
    "    g = Graph(directed=False) #Grafo sem direção\n",
    "    \n",
    "    S = g.new_vertex_property(\"double\")\n",
    "    L = g.new_edge_property(\"double\")\n",
    "    \n",
    "    u = 0 #Guardará o valor da soma k_i inicial\n",
    "    \n",
    "    v = g.add_vertex()\n",
    "    vlist = g.add_vertex(m0) #Add m0 elementos de sítios em g.\n",
    "    \n",
    "    #Segue o algoritmo da \"Rede Inicial\", explicado em 2.\n",
    "        #O loop duplo segue a ideia de fazer todos os sítios ficarem igualmente conectados ((m0-1) ligações)\n",
    "    \n",
    "    for i in range(m0):\n",
    "        for j in range(i+1,m0):\n",
    "            g.add_edge(g.vertex(i),g.vertex(j)) \n",
    "            #Adicionando cada grau ao valor de u, tendo a soma inicial de (m0*(m0-1))\n",
    "            u += g.vertex(i).out_degree() \n",
    "    \n",
    "    #for i in range(m0,N):\n",
    "     #   v = g.add_vertex()\n",
    "      #  S[v] = i\n",
    "        \n",
    "        \n",
    "    \n",
    "    return u"
   ]
  },
  {
   "cell_type": "code",
   "execution_count": 93,
   "id": "3eb9f6a2",
   "metadata": {},
   "outputs": [
    {
     "name": "stdout",
     "output_type": "stream",
     "text": [
      "5\n"
     ]
    }
   ],
   "source": [
    "print(barabasi_network(3))"
   ]
  },
  {
   "cell_type": "code",
   "execution_count": null,
   "id": "f0b46921",
   "metadata": {},
   "outputs": [],
   "source": []
  }
 ],
 "metadata": {
  "kernelspec": {
   "display_name": "Python 3 (ipykernel)",
   "language": "python",
   "name": "python3"
  },
  "language_info": {
   "codemirror_mode": {
    "name": "ipython",
    "version": 3
   },
   "file_extension": ".py",
   "mimetype": "text/x-python",
   "name": "python",
   "nbconvert_exporter": "python",
   "pygments_lexer": "ipython3",
   "version": "3.10.4"
  }
 },
 "nbformat": 4,
 "nbformat_minor": 5
}
