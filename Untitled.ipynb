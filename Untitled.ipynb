{
 "cells": [
  {
   "cell_type": "code",
   "execution_count": null,
   "id": "0100e6ea",
   "metadata": {},
   "outputs": [],
   "source": [
    "seed(42)\n",
    "# We need to import the graph_tool module itself\n",
    "\n",
    "# let's construct a Price network (the one that existed before Barabasi). It is\n",
    "# a directed network, with preferential attachment. The algorithm below is\n",
    "# very naive, and a bit slow, but quite simple.\n",
    "# We start with an empty, directed graph\n",
    "g = Graph()\n",
    "# We want also to keep the age information for each vertex and edge. For that\n",
    "# let's create some property maps\n",
    "v_age = g.new_vertex_property(\"int\")\n",
    "e_age = g.new_edge_property(\"int\")\n",
    "# The final size of the network\n",
    "N = 100000\n",
    "# We have to start with one vertex\n",
    "v = g.add_vertex()\n",
    "v_age[v] = m0\n",
    "# we will keep a list of the vertices. The number of times a vertex is in this\n",
    "# list will give the probability of it being selected.\n",
    "vlist = [v]\n",
    "# let's now add the new edges and vertices\n",
    "for i in range(1, N):\n",
    "    # create our new vertex\n",
    "    v = g.add_vertex()\n",
    "    v_age[v] = i\n",
    "    # we need to sample a new vertex to be the target, based on its in-degree +\n",
    "    # 1. For that, we simply randomly sample it from vlist.\n",
    "    i = randint(0, len(vlist))\n",
    "    target = vlist[i]\n",
    "    # add edge\n",
    "    e = g.add_edge(v, target)\n",
    "    e_age[e] = i\n",
    "    # put v and target in the list\n",
    "    vlist.append(target)\n",
    "    vlist.append(v)\n",
    "# now we have a graph!\n",
    "# let's do a random walk on the graph and print the age of the vertices we find,\n",
    "# just for fun.\n",
    "v = g.vertex(randint(0, g.num_vertices()))\n",
    "while True:\n",
    "    print(\"vertex:\", int(v), \"in-degree:\", v.in_degree(), \"out-degree:\",\n",
    "          v.out_degree(), \"age:\", v_age[v])\n",
    "    if v.out_degree() == 0:\n",
    "        print(\"Nowhere else to go... We found the main hub!\")\n",
    "        break\n",
    "    n_list = []\n",
    "    for w in v.out_neighbors():\n",
    "        n_list.append(w)\n",
    "        v = n_list[randint(0, len(n_list))]\n",
    "# let's save our graph for posterity. We want to save the age properties as\n",
    "# well... To do this, they must become \"internal\" properties:\n",
    "g.vertex_properties[\"age\"] = v_age\n",
    "g.edge_properties[\"age\"] = e_age\n",
    "# now we can save it\n",
    "g.save(\"price.xml.gz\")\n",
    "# Let's plot its in-degree distribution\n",
    "in_hist = vertex_hist(g, \"in\")\n",
    "y = in_hist[0]\n",
    "err = sqrt(in_hist[0])\n",
    "err[err >= y] = y[err >= y] - 1e-2\n",
    "figure(figsize=(6,4))\n",
    "errorbar(in_hist[1][:-1], in_hist[0], fmt=\"o\", yerr=err,\n",
    "        label=\"in\")\n",
    "gca().set_yscale(\"log\")\n",
    "gca().set_xscale(\"log\")\n",
    "gca().set_ylim(1e-1, 1e5)\n",
    "gca().set_xlim(0.8, 1e3)\n",
    "subplots_adjust(left=0.2, bottom=0.2)\n",
    "xlabel(\"$k_{in}$\")\n",
    "ylabel(\"$NP(k_{in})$\")\n",
    "tight_layout()\n",
    "savefig(\"price-deg-dist.pdf\")\n",
    "savefig(\"price-deg-dist.svg\")"
   ]
  },
  {
   "cell_type": "code",
   "execution_count": 5,
   "id": "a2a3ae8d",
   "metadata": {},
   "outputs": [],
   "source": []
  },
  {
   "cell_type": "code",
   "execution_count": 6,
   "id": "1367b728",
   "metadata": {},
   "outputs": [
    {
     "data": {
      "image/png": "[encoded data removed]",
      "text/plain": [
       "<Figure size 432x288 with 1 Axes>"
      ]
     },
     "metadata": {
      "needs_background": "light"
     },
     "output_type": "display_data"
    }
   ],
   "source": []
  },
  {
   "cell_type": "code",
   "execution_count": null,
   "id": "ed2b3e38",
   "metadata": {},
   "outputs": [],
   "source": []
  }
 ],
 "metadata": {
  "kernelspec": {
   "display_name": "Python 3 (ipykernel)",
   "language": "python",
   "name": "python3"
  },
  "language_info": {
   "codemirror_mode": {
    "name": "ipython",
    "version": 3
   },
   "file_extension": ".py",
   "mimetype": "text/x-python",
   "name": "python",
   "nbconvert_exporter": "python",
   "pygments_lexer": "ipython3",
   "version": "3.10.4"
  }
 },
 "nbformat": 4,
 "nbformat_minor": 5
}
